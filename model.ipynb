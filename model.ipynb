{
 "cells": [
  {
   "cell_type": "markdown",
   "id": "5ec0ff5f",
   "metadata": {},
   "source": [
    "# Actual implementation of the model"
   ]
  }
 ],
 "metadata": {
  "language_info": {
   "name": "python"
  }
 },
 "nbformat": 4,
 "nbformat_minor": 5
}
